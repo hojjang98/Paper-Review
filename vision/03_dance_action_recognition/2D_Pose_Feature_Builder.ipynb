{
  "nbformat": 4,
  "nbformat_minor": 0,
  "metadata": {
    "colab": {
      "provenance": [],
      "gpuType": "T4"
    },
    "kernelspec": {
      "name": "python3",
      "display_name": "Python 3"
    },
    "language_info": {
      "name": "python"
    },
    "accelerator": "GPU"
  },
  "cells": [
    {
      "cell_type": "markdown",
      "source": [
        "Install Dependencies"
      ],
      "metadata": {
        "id": "KHQqfhLP4n4V"
      }
    },
    {
      "cell_type": "code",
      "execution_count": 39,
      "metadata": {
        "id": "omeC6hQu4lbo"
      },
      "outputs": [],
      "source": [
        "# !pip install yt-dlp mediapipe opencv-python"
      ]
    },
    {
      "cell_type": "markdown",
      "source": [
        "Download YouTube Video"
      ],
      "metadata": {
        "id": "bwISfA3d4uxG"
      }
    },
    {
      "cell_type": "code",
      "source": [
        "VIDEO_URL = \"https://www.youtube.com/watch?v=a72NCO0OFXA\"\n",
        "OUTPUT_PATH = \"dance.mp4\"\n",
        "\n",
        "!yt-dlp -f bestvideo+bestaudio --merge-output-format mp4 \"{VIDEO_URL}\" -o \"{OUTPUT_PATH}\""
      ],
      "metadata": {
        "colab": {
          "base_uri": "https://localhost:8080/"
        },
        "id": "aTNXPDPg4vy8",
        "outputId": "ea19e01c-ff31-45f8-e153-4927965426b8"
      },
      "execution_count": 40,
      "outputs": [
        {
          "output_type": "stream",
          "name": "stdout",
          "text": [
            "[youtube] Extracting URL: https://www.youtube.com/watch?v=a72NCO0OFXA\n",
            "[youtube] a72NCO0OFXA: Downloading webpage\n",
            "[youtube] a72NCO0OFXA: Downloading tv client config\n",
            "[youtube] a72NCO0OFXA: Downloading tv player API JSON\n",
            "[youtube] a72NCO0OFXA: Downloading ios player API JSON\n",
            "[youtube] a72NCO0OFXA: Downloading m3u8 information\n",
            "[info] a72NCO0OFXA: Downloading 1 format(s): 397+251\n",
            "[download] dance.mp4 has already been downloaded\n"
          ]
        }
      ]
    },
    {
      "cell_type": "markdown",
      "source": [
        "Define Frame Extraction (ffmpeg)"
      ],
      "metadata": {
        "id": "ROLTncf44yha"
      }
    },
    {
      "cell_type": "code",
      "source": [
        "import os\n",
        "\n",
        "def extract_frames_with_ffmpeg(video_path, output_dir, fps=2):\n",
        "    os.makedirs(output_dir, exist_ok=True)\n",
        "    cmd = f\"ffmpeg -i \\\"{video_path}\\\" -vf fps={fps} \\\"{output_dir}/frame_%04d.jpg\\\"\"\n",
        "    os.system(cmd)"
      ],
      "metadata": {
        "id": "ZvHNNgbT4xm6"
      },
      "execution_count": 41,
      "outputs": []
    },
    {
      "cell_type": "markdown",
      "source": [
        "Run Frame Extraction"
      ],
      "metadata": {
        "id": "HyjE--xv411u"
      }
    },
    {
      "cell_type": "code",
      "source": [
        "extract_frames_with_ffmpeg(\"dance.mp4\", \"frames\", fps=2)"
      ],
      "metadata": {
        "id": "VdPtjBol406C"
      },
      "execution_count": 42,
      "outputs": []
    },
    {
      "cell_type": "markdown",
      "source": [
        "Define Pose Extraction (MediaPipe)"
      ],
      "metadata": {
        "id": "1Sp3Xx8h5Ccu"
      }
    },
    {
      "cell_type": "code",
      "source": [
        "import mediapipe as mp\n",
        "import numpy as np\n",
        "import cv2\n",
        "from tqdm import tqdm\n",
        "\n",
        "mp_pose = mp.solutions.pose\n",
        "\n",
        "def extract_pose_from_images(image_dir, output_dir):\n",
        "    os.makedirs(output_dir, exist_ok=True)\n",
        "    with mp_pose.Pose(static_image_mode=True) as pose:\n",
        "        for fname in tqdm(sorted(os.listdir(image_dir))):\n",
        "            if not fname.endswith(\".jpg\"):\n",
        "                continue\n",
        "            img_path = os.path.join(image_dir, fname)\n",
        "            image_bgr = cv2.imread(img_path)\n",
        "            if image_bgr is None:\n",
        "                continue\n",
        "            image_rgb = cv2.cvtColor(image_bgr, cv2.COLOR_BGR2RGB)\n",
        "            results = pose.process(image_rgb)\n",
        "            if results.pose_landmarks:\n",
        "                keypoints = [(lm.x, lm.y) for lm in results.pose_landmarks.landmark]\n",
        "                keypoints = np.array(keypoints)\n",
        "                np.save(os.path.join(output_dir, fname.replace(\".jpg\", \".npy\")), keypoints)"
      ],
      "metadata": {
        "id": "KAMGpO165HDE"
      },
      "execution_count": 43,
      "outputs": []
    },
    {
      "cell_type": "markdown",
      "source": [
        "Run Pose Extraction"
      ],
      "metadata": {
        "id": "BizWQSsL5Ipo"
      }
    },
    {
      "cell_type": "code",
      "source": [
        "extract_pose_from_images(\"frames\", \"pose_data/gukmin\")"
      ],
      "metadata": {
        "colab": {
          "base_uri": "https://localhost:8080/"
        },
        "id": "z8ZkKTHH5H1T",
        "outputId": "29848131-5fc7-42ff-e795-9722020f34b4"
      },
      "execution_count": 44,
      "outputs": [
        {
          "output_type": "stream",
          "name": "stderr",
          "text": [
            "100%|██████████| 576/576 [00:22<00:00, 25.26it/s]\n"
          ]
        }
      ]
    },
    {
      "cell_type": "markdown",
      "source": [
        "Visualize Extracted Pose"
      ],
      "metadata": {
        "id": "xk75LNpb5Mpc"
      }
    },
    {
      "cell_type": "code",
      "source": [
        "import matplotlib.pyplot as plt\n",
        "import numpy as np\n",
        "\n",
        "sample = np.load(\"pose_data/gukmin/frame_0537.npy\")\n",
        "\n",
        "plt.scatter(sample[:, 0], -sample[:, 1])\n",
        "for i, (x, y) in enumerate(sample):\n",
        "    plt.text(x, -y, str(i), fontsize=8)\n",
        "plt.title(\"Pose Keypoints\")\n",
        "plt.axis('equal')\n",
        "plt.show()"
      ],
      "metadata": {
        "colab": {
          "base_uri": "https://localhost:8080/",
          "height": 452
        },
        "id": "x0JuK_MO5Krz",
        "outputId": "8768a42f-da9d-42b0-dad4-c187a0c4c75c"
      },
      "execution_count": 45,
      "outputs": [
        {
          "output_type": "display_data",
          "data": {
            "text/plain": [
              "<Figure size 640x480 with 1 Axes>"
            ],
            "image/png": "[encoded data removed]"
          },
          "metadata": {}
        }
      ]
    }
  ]
}